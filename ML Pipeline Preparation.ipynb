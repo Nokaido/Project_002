{
 "cells": [
  {
   "cell_type": "markdown",
   "metadata": {},
   "source": [
    "# ML Pipeline Preparation\n",
    "Follow the instructions below to help you create your ML pipeline.\n",
    "### 1. Import libraries and load data from database.\n",
    "- Import Python libraries\n",
    "- Load dataset from database with [`read_sql_table`](https://pandas.pydata.org/pandas-docs/stable/generated/pandas.read_sql_table.html)\n",
    "- Define feature and target variables X and Y"
   ]
  },
  {
   "cell_type": "code",
   "execution_count": 9,
   "metadata": {},
   "outputs": [
    {
     "name": "stderr",
     "output_type": "stream",
     "text": [
      "[nltk_data] <urlopen error [WinError 10060] Ein Verbindungsversuch ist\n",
      "[nltk_data]     fehlgeschlagen, da die Gegenstelle nach einer\n",
      "[nltk_data]     bestimmten Zeitspanne nicht richtig reagiert hat, oder\n",
      "[nltk_data]     die hergestellte Verbindung war fehlerhaft, da der\n",
      "[nltk_data]     verbundene Host nicht reagiert hat>\n"
     ]
    },
    {
     "data": {
      "text/plain": [
       "False"
      ]
     },
     "execution_count": 9,
     "metadata": {},
     "output_type": "execute_result"
    }
   ],
   "source": [
    "import nltk\n",
    "from nltk.corpus import stopwords\n",
    "nltk.download(['punkt', 'wordnet','stopwords'])"
   ]
  },
  {
   "cell_type": "code",
   "execution_count": 10,
   "metadata": {},
   "outputs": [],
   "source": [
    "# import libraries\n",
    "import re\n",
    "import numpy as np\n",
    "import pandas as pd\n",
    "from nltk.tokenize import word_tokenize\n",
    "from nltk.stem import WordNetLemmatizer\n",
    "\n",
    "from sklearn.model_selection import GridSearchCV\n",
    "\n",
    "from sklearn.metrics import classification_report\n",
    "from sklearn.ensemble import RandomForestClassifier\n",
    "from sklearn.model_selection import train_test_split\n",
    "from sklearn.pipeline import Pipeline, FeatureUnion\n",
    "from sklearn.base import BaseEstimator, TransformerMixin\n",
    "from sklearn.feature_extraction.text import CountVectorizer, TfidfTransformer\n",
    "from sklearn.multioutput import MultiOutputClassifier\n",
    "\n",
    "from sqlalchemy import create_engine"
   ]
  },
  {
   "cell_type": "code",
   "execution_count": 11,
   "metadata": {},
   "outputs": [],
   "source": [
    "# load data from database\n",
    "engine = create_engine('sqlite:///InsertDatabaseName.db')\n",
    "df = pd.read_sql('select * from InsertTableName',engine)\n",
    "X = df.message.values\n",
    "Y = df.drop(['id','message','original','genre'], 1).values\n"
   ]
  },
  {
   "cell_type": "code",
   "execution_count": 8,
   "metadata": {},
   "outputs": [
    {
     "data": {
      "text/plain": [
       "{'aid_centers',\n",
       " 'aid_related',\n",
       " 'buildings',\n",
       " 'child_alone',\n",
       " 'clothing',\n",
       " 'cold',\n",
       " 'death',\n",
       " 'direct_report',\n",
       " 'earthquake',\n",
       " 'electricity',\n",
       " 'fire',\n",
       " 'floods',\n",
       " 'food',\n",
       " 'hospitals',\n",
       " 'infrastructure_related',\n",
       " 'medical_help',\n",
       " 'medical_products',\n",
       " 'military',\n",
       " 'missing_people',\n",
       " 'money',\n",
       " 'offer',\n",
       " 'other_aid',\n",
       " 'other_infrastructure',\n",
       " 'other_weather',\n",
       " 'refugees',\n",
       " 'related',\n",
       " 'request',\n",
       " 'search_and_rescue',\n",
       " 'security',\n",
       " 'shelter',\n",
       " 'shops',\n",
       " 'storm',\n",
       " 'tools',\n",
       " 'transport',\n",
       " 'water',\n",
       " 'weather_related'}"
      ]
     },
     "execution_count": 8,
     "metadata": {},
     "output_type": "execute_result"
    }
   ],
   "source": [
    "set(df.columns.values)-set(['id','message','original','genre'])"
   ]
  },
  {
   "cell_type": "markdown",
   "metadata": {},
   "source": [
    "### 2. Write a tokenization function to process your text data"
   ]
  },
  {
   "cell_type": "code",
   "execution_count": 4,
   "metadata": {},
   "outputs": [],
   "source": [
    "stop_words = stopwords.words(\"english\")\n",
    "lemmatizer = WordNetLemmatizer()\n",
    "\n",
    "def tokenize(text):\n",
    "    # normalize case and remove punctuation\n",
    "    text = re.sub(r\"[^a-zA-Z0-9]\", \" \", text.lower())\n",
    "    \n",
    "    # tokenize text\n",
    "    tokens = word_tokenize(text)\n",
    "    \n",
    "    # lemmatize andremove stop words\n",
    "    tokens = [lemmatizer.lemmatize(word) for word in tokens if word not in stop_words]\n",
    "\n",
    "    return tokens"
   ]
  },
  {
   "cell_type": "markdown",
   "metadata": {},
   "source": [
    "### 3. Build a machine learning pipeline\n",
    "This machine pipeline should take in the `message` column as input and output classification results on the other 36 categories in the dataset. You may find the [MultiOutputClassifier](http://scikit-learn.org/stable/modules/generated/sklearn.multioutput.MultiOutputClassifier.html) helpful for predicting multiple target variables."
   ]
  },
  {
   "cell_type": "code",
   "execution_count": 5,
   "metadata": {},
   "outputs": [],
   "source": [
    "pipeline = Pipeline([\n",
    "    ('vect', CountVectorizer(tokenizer=tokenize)),\n",
    "    ('tfidf', TfidfTransformer()),\n",
    "    ('mic', MultiOutputClassifier(RandomForestClassifier(n_estimators = 10)))\n",
    "    ])"
   ]
  },
  {
   "cell_type": "markdown",
   "metadata": {},
   "source": [
    "### 4. Train pipeline\n",
    "- Split data into train and test sets\n",
    "- Train pipeline"
   ]
  },
  {
   "cell_type": "code",
   "execution_count": 6,
   "metadata": {},
   "outputs": [
    {
     "data": {
      "text/plain": [
       "Pipeline(memory=None,\n",
       "     steps=[('vect', CountVectorizer(analyzer='word', binary=False, decode_error='strict',\n",
       "        dtype=<class 'numpy.int64'>, encoding='utf-8', input='content',\n",
       "        lowercase=True, max_df=1.0, max_features=None, min_df=1,\n",
       "        ngram_range=(1, 1), preprocessor=None, stop_words=None,\n",
       "        strip..._score=False, random_state=None, verbose=0,\n",
       "            warm_start=False),\n",
       "           n_jobs=None))])"
      ]
     },
     "execution_count": 6,
     "metadata": {},
     "output_type": "execute_result"
    }
   ],
   "source": [
    "X_train, X_test, y_train, y_test = train_test_split(X, Y)\n",
    "pipeline.fit(X_train, y_train)"
   ]
  },
  {
   "cell_type": "markdown",
   "metadata": {},
   "source": [
    "### 5. Test your model\n",
    "Report the f1 score, precision and recall for each output category of the dataset. You can do this by iterating through the columns and calling sklearn's `classification_report` on each."
   ]
  },
  {
   "cell_type": "code",
   "execution_count": 7,
   "metadata": {},
   "outputs": [],
   "source": [
    "y_pred = pipeline.predict(X_test)"
   ]
  },
  {
   "cell_type": "code",
   "execution_count": 8,
   "metadata": {},
   "outputs": [
    {
     "data": {
      "text/plain": [
       "'related'"
      ]
     },
     "execution_count": 8,
     "metadata": {},
     "output_type": "execute_result"
    }
   ],
   "source": [
    "col_names = df.drop(['id','message','original','genre'], 1).columns.values\n",
    "len(col_names)\n",
    "y_pred_df = pd.DataFrame(y_pred, columns=col_names)\n",
    "y_test_df = pd.DataFrame(y_test, columns=col_names)\n",
    "\n",
    "col_names[0]"
   ]
  },
  {
   "cell_type": "code",
   "execution_count": 9,
   "metadata": {
    "scrolled": true
   },
   "outputs": [
    {
     "data": {
      "text/plain": [
       "117      2\n",
       "219      2\n",
       "305      2\n",
       "460      2\n",
       "576      2\n",
       "        ..\n",
       "20324    2\n",
       "20495    2\n",
       "22326    2\n",
       "23382    2\n",
       "25215    2\n",
       "Name: related, Length: 188, dtype: int64"
      ]
     },
     "execution_count": 9,
     "metadata": {},
     "output_type": "execute_result"
    }
   ],
   "source": [
    "y_pred_df['related'].nunique()\n",
    "\n",
    "Y_df = pd.DataFrame(Y, columns=col_names)\n",
    "Y_df.query('related == 2')['related']"
   ]
  },
  {
   "cell_type": "code",
   "execution_count": 10,
   "metadata": {},
   "outputs": [],
   "source": [
    "def display_results(y_test, y_pred):\n",
    "    for col in y_pred.columns:\n",
    "        \n",
    "        print(classification_report(y_test[col].values,y_pred[col].values))\n",
    "   \n",
    "        "
   ]
  },
  {
   "cell_type": "code",
   "execution_count": 11,
   "metadata": {},
   "outputs": [
    {
     "name": "stdout",
     "output_type": "stream",
     "text": [
      "              precision    recall  f1-score   support\n",
      "\n",
      "           0       0.64      0.50      0.56      1466\n",
      "           1       0.86      0.91      0.89      5041\n",
      "           2       0.29      0.40      0.34        47\n",
      "\n",
      "   micro avg       0.82      0.82      0.82      6554\n",
      "   macro avg       0.59      0.60      0.59      6554\n",
      "weighted avg       0.81      0.82      0.81      6554\n",
      "\n",
      "              precision    recall  f1-score   support\n",
      "\n",
      "           0       0.89      0.98      0.93      5433\n",
      "           1       0.79      0.44      0.57      1121\n",
      "\n",
      "   micro avg       0.88      0.88      0.88      6554\n",
      "   macro avg       0.84      0.71      0.75      6554\n",
      "weighted avg       0.88      0.88      0.87      6554\n",
      "\n",
      "              precision    recall  f1-score   support\n",
      "\n",
      "           0       1.00      1.00      1.00      6528\n",
      "           1       0.00      0.00      0.00        26\n",
      "\n",
      "   micro avg       1.00      1.00      1.00      6554\n",
      "   macro avg       0.50      0.50      0.50      6554\n",
      "weighted avg       0.99      1.00      0.99      6554\n",
      "\n",
      "              precision    recall  f1-score   support\n",
      "\n",
      "           0       0.75      0.85      0.79      3797\n",
      "           1       0.74      0.60      0.66      2757\n",
      "\n",
      "   micro avg       0.74      0.74      0.74      6554\n",
      "   macro avg       0.74      0.72      0.73      6554\n",
      "weighted avg       0.74      0.74      0.74      6554\n",
      "\n",
      "              precision    recall  f1-score   support\n",
      "\n",
      "           0       0.92      0.99      0.96      6004\n",
      "           1       0.55      0.08      0.15       550\n",
      "\n",
      "   micro avg       0.92      0.92      0.92      6554\n",
      "   macro avg       0.74      0.54      0.55      6554\n",
      "weighted avg       0.89      0.92      0.89      6554\n",
      "\n",
      "              precision    recall  f1-score   support\n",
      "\n",
      "           0       0.95      1.00      0.97      6209\n",
      "           1       0.65      0.09      0.16       345\n",
      "\n",
      "   micro avg       0.95      0.95      0.95      6554\n",
      "   macro avg       0.80      0.54      0.57      6554\n",
      "weighted avg       0.94      0.95      0.93      6554\n",
      "\n",
      "              precision    recall  f1-score   support\n",
      "\n",
      "           0       0.98      1.00      0.99      6373\n",
      "           1       0.68      0.14      0.23       181\n",
      "\n",
      "   micro avg       0.97      0.97      0.97      6554\n",
      "   macro avg       0.83      0.57      0.61      6554\n",
      "weighted avg       0.97      0.97      0.97      6554\n",
      "\n",
      "              precision    recall  f1-score   support\n",
      "\n",
      "           0       0.98      1.00      0.99      6430\n",
      "           1       0.00      0.00      0.00       124\n",
      "\n",
      "   micro avg       0.98      0.98      0.98      6554\n",
      "   macro avg       0.49      0.50      0.50      6554\n",
      "weighted avg       0.96      0.98      0.97      6554\n",
      "\n",
      "              precision    recall  f1-score   support\n",
      "\n",
      "           0       0.97      1.00      0.98      6345\n",
      "           1       0.63      0.08      0.14       209\n",
      "\n",
      "   micro avg       0.97      0.97      0.97      6554\n",
      "   macro avg       0.80      0.54      0.56      6554\n",
      "weighted avg       0.96      0.97      0.96      6554\n",
      "\n",
      "              precision    recall  f1-score   support\n",
      "\n",
      "           0       1.00      1.00      1.00      6554\n",
      "\n",
      "   micro avg       1.00      1.00      1.00      6554\n",
      "   macro avg       1.00      1.00      1.00      6554\n",
      "weighted avg       1.00      1.00      1.00      6554\n",
      "\n",
      "              precision    recall  f1-score   support\n",
      "\n",
      "           0       0.96      0.99      0.98      6139\n",
      "           1       0.82      0.40      0.54       415\n",
      "\n",
      "   micro avg       0.96      0.96      0.96      6554\n",
      "   macro avg       0.89      0.70      0.76      6554\n",
      "weighted avg       0.95      0.96      0.95      6554\n",
      "\n",
      "              precision    recall  f1-score   support\n",
      "\n",
      "           0       0.94      0.99      0.96      5826\n",
      "           1       0.83      0.52      0.64       728\n",
      "\n",
      "   micro avg       0.94      0.94      0.94      6554\n",
      "   macro avg       0.89      0.76      0.80      6554\n",
      "weighted avg       0.93      0.94      0.93      6554\n",
      "\n",
      "              precision    recall  f1-score   support\n",
      "\n",
      "           0       0.94      0.99      0.96      5956\n",
      "           1       0.82      0.32      0.46       598\n",
      "\n",
      "   micro avg       0.93      0.93      0.93      6554\n",
      "   macro avg       0.88      0.66      0.71      6554\n",
      "weighted avg       0.93      0.93      0.92      6554\n",
      "\n",
      "              precision    recall  f1-score   support\n",
      "\n",
      "           0       0.99      1.00      0.99      6455\n",
      "           1       0.71      0.22      0.34        99\n",
      "\n",
      "   micro avg       0.99      0.99      0.99      6554\n",
      "   macro avg       0.85      0.61      0.67      6554\n",
      "weighted avg       0.98      0.99      0.98      6554\n",
      "\n",
      "              precision    recall  f1-score   support\n",
      "\n",
      "           0       0.98      1.00      0.99      6391\n",
      "           1       0.71      0.03      0.06       163\n",
      "\n",
      "   micro avg       0.98      0.98      0.98      6554\n",
      "   macro avg       0.85      0.52      0.52      6554\n",
      "weighted avg       0.97      0.98      0.96      6554\n",
      "\n",
      "              precision    recall  f1-score   support\n",
      "\n",
      "           0       0.99      1.00      0.99      6482\n",
      "           1       0.00      0.00      0.00        72\n",
      "\n",
      "   micro avg       0.99      0.99      0.99      6554\n",
      "   macro avg       0.49      0.50      0.50      6554\n",
      "weighted avg       0.98      0.99      0.98      6554\n",
      "\n",
      "              precision    recall  f1-score   support\n",
      "\n",
      "           0       0.97      1.00      0.98      6324\n",
      "           1       0.60      0.08      0.14       230\n",
      "\n",
      "   micro avg       0.97      0.97      0.97      6554\n",
      "   macro avg       0.78      0.54      0.56      6554\n",
      "weighted avg       0.95      0.97      0.95      6554\n",
      "\n",
      "              precision    recall  f1-score   support\n",
      "\n",
      "           0       0.96      1.00      0.98      6256\n",
      "           1       0.79      0.21      0.33       298\n",
      "\n",
      "   micro avg       0.96      0.96      0.96      6554\n",
      "   macro avg       0.88      0.60      0.65      6554\n",
      "weighted avg       0.96      0.96      0.95      6554\n",
      "\n",
      "              precision    recall  f1-score   support\n",
      "\n",
      "           0       0.87      0.99      0.93      5704\n",
      "           1       0.46      0.04      0.07       850\n",
      "\n",
      "   micro avg       0.87      0.87      0.87      6554\n",
      "   macro avg       0.67      0.52      0.50      6554\n",
      "weighted avg       0.82      0.87      0.82      6554\n",
      "\n",
      "              precision    recall  f1-score   support\n",
      "\n",
      "           0       0.93      1.00      0.96      6121\n",
      "           1       0.13      0.00      0.01       433\n",
      "\n",
      "   micro avg       0.93      0.93      0.93      6554\n",
      "   macro avg       0.53      0.50      0.49      6554\n",
      "weighted avg       0.88      0.93      0.90      6554\n",
      "\n",
      "              precision    recall  f1-score   support\n",
      "\n",
      "           0       0.96      1.00      0.98      6248\n",
      "           1       0.59      0.05      0.10       306\n",
      "\n",
      "   micro avg       0.95      0.95      0.95      6554\n",
      "   macro avg       0.77      0.53      0.54      6554\n",
      "weighted avg       0.94      0.95      0.94      6554\n",
      "\n",
      "              precision    recall  f1-score   support\n",
      "\n",
      "           0       0.96      1.00      0.98      6234\n",
      "           1       0.71      0.17      0.28       320\n",
      "\n",
      "   micro avg       0.96      0.96      0.96      6554\n",
      "   macro avg       0.83      0.58      0.63      6554\n",
      "weighted avg       0.95      0.96      0.94      6554\n",
      "\n",
      "              precision    recall  f1-score   support\n",
      "\n",
      "           0       0.98      1.00      0.99      6415\n",
      "           1       0.79      0.08      0.14       139\n",
      "\n",
      "   micro avg       0.98      0.98      0.98      6554\n",
      "   macro avg       0.88      0.54      0.57      6554\n",
      "weighted avg       0.98      0.98      0.97      6554\n",
      "\n",
      "              precision    recall  f1-score   support\n",
      "\n",
      "           0       0.99      1.00      1.00      6509\n",
      "           1       0.00      0.00      0.00        45\n",
      "\n",
      "   micro avg       0.99      0.99      0.99      6554\n",
      "   macro avg       0.50      0.50      0.50      6554\n",
      "weighted avg       0.99      0.99      0.99      6554\n",
      "\n",
      "              precision    recall  f1-score   support\n",
      "\n",
      "           0       0.99      1.00      0.99      6474\n",
      "           1       0.00      0.00      0.00        80\n",
      "\n",
      "   micro avg       0.99      0.99      0.99      6554\n",
      "   macro avg       0.49      0.50      0.50      6554\n",
      "weighted avg       0.98      0.99      0.98      6554\n",
      "\n",
      "              precision    recall  f1-score   support\n",
      "\n",
      "           0       1.00      1.00      1.00      6525\n",
      "           1       0.00      0.00      0.00        29\n",
      "\n",
      "   micro avg       1.00      1.00      1.00      6554\n",
      "   macro avg       0.50      0.50      0.50      6554\n",
      "weighted avg       0.99      1.00      0.99      6554\n",
      "\n",
      "              precision    recall  f1-score   support\n",
      "\n",
      "           0       0.99      1.00      0.99      6469\n",
      "           1       0.00      0.00      0.00        85\n",
      "\n",
      "   micro avg       0.99      0.99      0.99      6554\n",
      "   macro avg       0.49      0.50      0.50      6554\n",
      "weighted avg       0.97      0.99      0.98      6554\n",
      "\n",
      "              precision    recall  f1-score   support\n",
      "\n",
      "           0       0.96      1.00      0.98      6279\n",
      "           1       0.33      0.01      0.01       275\n",
      "\n",
      "   micro avg       0.96      0.96      0.96      6554\n",
      "   macro avg       0.65      0.50      0.50      6554\n",
      "weighted avg       0.93      0.96      0.94      6554\n",
      "\n",
      "              precision    recall  f1-score   support\n",
      "\n",
      "           0       0.87      0.95      0.91      4750\n",
      "           1       0.83      0.62      0.71      1804\n",
      "\n",
      "   micro avg       0.86      0.86      0.86      6554\n",
      "   macro avg       0.85      0.79      0.81      6554\n",
      "weighted avg       0.86      0.86      0.85      6554\n",
      "\n",
      "              precision    recall  f1-score   support\n",
      "\n",
      "           0       0.95      1.00      0.97      6042\n",
      "           1       0.87      0.33      0.48       512\n",
      "\n",
      "   micro avg       0.94      0.94      0.94      6554\n",
      "   macro avg       0.91      0.66      0.73      6554\n",
      "weighted avg       0.94      0.94      0.93      6554\n",
      "\n",
      "              precision    recall  f1-score   support\n",
      "\n",
      "           0       0.94      0.99      0.96      5954\n",
      "           1       0.74      0.40      0.52       600\n",
      "\n",
      "   micro avg       0.93      0.93      0.93      6554\n",
      "   macro avg       0.84      0.69      0.74      6554\n",
      "weighted avg       0.92      0.93      0.92      6554\n",
      "\n",
      "              precision    recall  f1-score   support\n",
      "\n",
      "           0       0.99      1.00      1.00      6488\n",
      "           1       1.00      0.02      0.03        66\n",
      "\n",
      "   micro avg       0.99      0.99      0.99      6554\n",
      "   macro avg       1.00      0.51      0.51      6554\n",
      "weighted avg       0.99      0.99      0.99      6554\n",
      "\n",
      "              precision    recall  f1-score   support\n",
      "\n",
      "           0       0.97      0.99      0.98      5942\n",
      "           1       0.89      0.72      0.80       612\n",
      "\n",
      "   micro avg       0.97      0.97      0.97      6554\n",
      "   macro avg       0.93      0.86      0.89      6554\n",
      "weighted avg       0.96      0.97      0.96      6554\n",
      "\n",
      "              precision    recall  f1-score   support\n",
      "\n",
      "           0       0.98      1.00      0.99      6406\n",
      "           1       1.00      0.09      0.16       148\n",
      "\n",
      "   micro avg       0.98      0.98      0.98      6554\n",
      "   macro avg       0.99      0.54      0.58      6554\n",
      "weighted avg       0.98      0.98      0.97      6554\n",
      "\n"
     ]
    },
    {
     "name": "stderr",
     "output_type": "stream",
     "text": [
      "C:\\ProgramData\\Anaconda3\\lib\\site-packages\\sklearn\\metrics\\classification.py:1143: UndefinedMetricWarning: Precision and F-score are ill-defined and being set to 0.0 in labels with no predicted samples.\n",
      "  'precision', 'predicted', average, warn_for)\n"
     ]
    },
    {
     "name": "stdout",
     "output_type": "stream",
     "text": [
      "              precision    recall  f1-score   support\n",
      "\n",
      "           0       0.95      1.00      0.97      6181\n",
      "           1       0.50      0.04      0.08       373\n",
      "\n",
      "   micro avg       0.94      0.94      0.94      6554\n",
      "   macro avg       0.72      0.52      0.52      6554\n",
      "weighted avg       0.92      0.94      0.92      6554\n",
      "\n",
      "              precision    recall  f1-score   support\n",
      "\n",
      "           0       0.86      0.97      0.91      5319\n",
      "           1       0.74      0.33      0.45      1235\n",
      "\n",
      "   micro avg       0.85      0.85      0.85      6554\n",
      "   macro avg       0.80      0.65      0.68      6554\n",
      "weighted avg       0.84      0.85      0.83      6554\n",
      "\n"
     ]
    }
   ],
   "source": [
    "display_results(y_test_df, y_pred_df)"
   ]
  },
  {
   "cell_type": "markdown",
   "metadata": {},
   "source": [
    "### 6. Improve your model\n",
    "Use grid search to find better parameters. "
   ]
  },
  {
   "cell_type": "code",
   "execution_count": 12,
   "metadata": {},
   "outputs": [
    {
     "data": {
      "text/plain": [
       "['memory',\n",
       " 'steps',\n",
       " 'vect',\n",
       " 'tfidf',\n",
       " 'mic',\n",
       " 'vect__analyzer',\n",
       " 'vect__binary',\n",
       " 'vect__decode_error',\n",
       " 'vect__dtype',\n",
       " 'vect__encoding',\n",
       " 'vect__input',\n",
       " 'vect__lowercase',\n",
       " 'vect__max_df',\n",
       " 'vect__max_features',\n",
       " 'vect__min_df',\n",
       " 'vect__ngram_range',\n",
       " 'vect__preprocessor',\n",
       " 'vect__stop_words',\n",
       " 'vect__strip_accents',\n",
       " 'vect__token_pattern',\n",
       " 'vect__tokenizer',\n",
       " 'vect__vocabulary',\n",
       " 'tfidf__norm',\n",
       " 'tfidf__smooth_idf',\n",
       " 'tfidf__sublinear_tf',\n",
       " 'tfidf__use_idf',\n",
       " 'mic__estimator__bootstrap',\n",
       " 'mic__estimator__class_weight',\n",
       " 'mic__estimator__criterion',\n",
       " 'mic__estimator__max_depth',\n",
       " 'mic__estimator__max_features',\n",
       " 'mic__estimator__max_leaf_nodes',\n",
       " 'mic__estimator__min_impurity_decrease',\n",
       " 'mic__estimator__min_impurity_split',\n",
       " 'mic__estimator__min_samples_leaf',\n",
       " 'mic__estimator__min_samples_split',\n",
       " 'mic__estimator__min_weight_fraction_leaf',\n",
       " 'mic__estimator__n_estimators',\n",
       " 'mic__estimator__n_jobs',\n",
       " 'mic__estimator__oob_score',\n",
       " 'mic__estimator__random_state',\n",
       " 'mic__estimator__verbose',\n",
       " 'mic__estimator__warm_start',\n",
       " 'mic__estimator',\n",
       " 'mic__n_jobs']"
      ]
     },
     "execution_count": 12,
     "metadata": {},
     "output_type": "execute_result"
    }
   ],
   "source": [
    "list(pipeline.get_params().keys())"
   ]
  },
  {
   "cell_type": "code",
   "execution_count": 13,
   "metadata": {},
   "outputs": [],
   "source": [
    "parameters = {\n",
    "    #'vect__ngram_range': ((1, 1), (1, 2)),\n",
    "    'vect__max_df': (0.5, 0.75, 1.0),\n",
    "    #'vect__max_features': (None, 5000, 10000),\n",
    "    'tfidf__use_idf': (True, False),\n",
    "    'mic__estimator__n_estimators':  [10, 50],\n",
    "    #'mic__estimator__min_samples_split': [2, 3, 4]\n",
    "}\n",
    "\n",
    "cv = GridSearchCV(pipeline, parameters)"
   ]
  },
  {
   "cell_type": "markdown",
   "metadata": {},
   "source": [
    "### 7. Test your model\n",
    "Show the accuracy, precision, and recall of the tuned model.  \n",
    "\n",
    "Since this project focuses on code quality, process, and  pipelines, there is no minimum performance metric needed to pass. However, make sure to fine tune your models for accuracy, precision and recall to make your project stand out - especially for your portfolio!"
   ]
  },
  {
   "cell_type": "code",
   "execution_count": null,
   "metadata": {},
   "outputs": [
    {
     "name": "stderr",
     "output_type": "stream",
     "text": [
      "C:\\ProgramData\\Anaconda3\\lib\\site-packages\\sklearn\\model_selection\\_split.py:2053: FutureWarning: You should specify a value for 'cv' instead of relying on the default value. The default value will change from 3 to 5 in version 0.22.\n",
      "  warnings.warn(CV_WARNING, FutureWarning)\n"
     ]
    }
   ],
   "source": [
    "cv.fit(X_train,y_train)\n",
    "y_pred = cv.predict(X_test)"
   ]
  },
  {
   "cell_type": "markdown",
   "metadata": {},
   "source": [
    "### 8. Try improving your model further. Here are a few ideas:\n",
    "* try other machine learning algorithms\n",
    "* add other features besides the TF-IDF"
   ]
  },
  {
   "cell_type": "code",
   "execution_count": null,
   "metadata": {},
   "outputs": [],
   "source": [
    "import pickle\n",
    "pickle.dump(cv, open(\"model.pickle\", \"wb\"))"
   ]
  },
  {
   "cell_type": "markdown",
   "metadata": {},
   "source": [
    "### 9. Export your model as a pickle file"
   ]
  },
  {
   "cell_type": "code",
   "execution_count": null,
   "metadata": {},
   "outputs": [],
   "source": []
  },
  {
   "cell_type": "markdown",
   "metadata": {},
   "source": [
    "### 10. Use this notebook to complete `train.py`\n",
    "Use the template file attached in the Resources folder to write a script that runs the steps above to create a database and export a model based on a new dataset specified by the user."
   ]
  },
  {
   "cell_type": "code",
   "execution_count": null,
   "metadata": {},
   "outputs": [],
   "source": []
  }
 ],
 "metadata": {
  "kernelspec": {
   "display_name": "Python 3",
   "language": "python",
   "name": "python3"
  },
  "language_info": {
   "codemirror_mode": {
    "name": "ipython",
    "version": 3
   },
   "file_extension": ".py",
   "mimetype": "text/x-python",
   "name": "python",
   "nbconvert_exporter": "python",
   "pygments_lexer": "ipython3",
   "version": "3.7.3"
  }
 },
 "nbformat": 4,
 "nbformat_minor": 4
}
